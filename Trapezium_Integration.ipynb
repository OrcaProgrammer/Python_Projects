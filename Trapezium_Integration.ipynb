{
 "cells": [
  {
   "cell_type": "markdown",
   "metadata": {},
   "source": [
    "# Imports"
   ]
  },
  {
   "cell_type": "code",
   "execution_count": 1,
   "metadata": {},
   "outputs": [],
   "source": [
    "import numpy as np\n",
    "import matplotlib.pyplot as plt"
   ]
  },
  {
   "cell_type": "markdown",
   "metadata": {},
   "source": [
    "# Functions \n",
    "__frange(n, stop, step)__   *(Helper Function)*<br>\n",
    "\\- A substite function for range() that works with floats instead of integers.<br>\n",
    "\\- Inputs are: __n__ the first number in the desired list, __stop__ the end of the list and __step__ the step between each element in the list.<br>\n",
    "\\- Output is a list."
   ]
  },
  {
   "cell_type": "code",
   "execution_count": 2,
   "metadata": {},
   "outputs": [],
   "source": [
    "def frange(n, stop, step):\n",
    "    list = []\n",
    "    while n < stop:\n",
    "        list.append(float(n))\n",
    "        n += step\n",
    "    return list"
   ]
  },
  {
   "cell_type": "markdown",
   "metadata": {},
   "source": [
    "__test_integral(integral_func, N, dp)__<br>\n",
    "\\- A test function which tests the result of a numerical integration function against the identity: $\\int_{0}^{\\pi} sin^{2}(x)dx=\\frac{\\pi}{2}$.<br>\n",
    "\\- Inputs are: __integral_func__ the function used for numerical integration, __N__ the number of points used in the function and __dp__ the decimal places to which the function should precise to.<br>\n",
    "\\- Output is a boolean which represents whether the numerical integration gave the expected result or not."
   ]
  },
  {
   "cell_type": "code",
   "execution_count": 3,
   "metadata": {},
   "outputs": [],
   "source": [
    "def test_integral(integral_func, N, dp):\n",
    "    \n",
    "    f = lambda x: np.sin(x) ** 2 # Sin(x)^2 from the identity\n",
    "    \n",
    "    integral_result = integral_func(f, 0, np.pi, 200)\n",
    "    integral_result = np.round(integral_result, dp)\n",
    "    \n",
    "    correct_result = np.round(np.pi / 2, dp)\n",
    "    \n",
    "    return integral_result == correct_result"
   ]
  },
  {
   "cell_type": "markdown",
   "metadata": {},
   "source": [
    "__test_error_func(err_func, dp)__<br>\n",
    "\\- A test function which tests the result of an implementation of the error function against the identity: $erf(\\pi)=1$.<br>\n",
    "\\- Inputs are: __err_func__ the function used as an implementation of the error function and __dp__ the decimal places to which the function should precise to.<br>\n",
    "\\- Output is a boolean which represents whether the implementation of the error function gave the expected result or not."
   ]
  },
  {
   "cell_type": "code",
   "execution_count": 4,
   "metadata": {},
   "outputs": [],
   "source": [
    "def test_error_func(err_func, dp):\n",
    "    \n",
    "    func_result = err_func(np.pi)\n",
    "    func_result = np.round(func_result, dp)\n",
    "    \n",
    "    correct_result = np.round(1.0, dp)\n",
    "    \n",
    "    return func_result == correct_result"
   ]
  },
  {
   "cell_type": "markdown",
   "metadata": {},
   "source": [
    "__trapezium_integration(func, a, b, N)__<br>\n",
    "\\- A function that uses the trapezium rule to numerically integrate a function. Trapezium rule: $\\int_{a}^{b} f(x)dx=\\frac{h}{2}\\left[f(a)+f(b)+2\\sum_{i=1}^{n-1}f(a+ih)\\right]$.<br>\n",
    "\\- Inputs are: __func__ the function to be numerically integrated, __a__ the lower limit of the integral, __b__ the upper limit of the integral and __N__ the number of points used to approximate the integral.<br>\n",
    "\\- Output is a float which is the approximate area of the function __f__ between the points __a__ and __b__."
   ]
  },
  {
   "cell_type": "code",
   "execution_count": 5,
   "metadata": {},
   "outputs": [],
   "source": [
    "def trapezium_integration(func, a, b, N):\n",
    "    \n",
    "    h = (b - a) / N # Calculate the step size\n",
    "    sum_of_inbetween_points = 0\n",
    "    \n",
    "    # Add up all the values of the points inbetween a and b\n",
    "    for x in frange(a + h, b, h):\n",
    "        sum_of_inbetween_points += func(x)\n",
    "    \n",
    "    # Use the trapezium rule to return the approximate area\n",
    "    return (h / 2) * (func(a) + func(b) + (2 * sum_of_inbetween_points))"
   ]
  },
  {
   "cell_type": "markdown",
   "metadata": {},
   "source": [
    "__err_func(z)__<br>\n",
    "\\- A function which implements the error function using the error function formula. Formula: $erf(z)=\\frac{2}{\\sqrt{\\pi}}\\int_{0}^{z}e^{-x^2}dx$.<br>\n",
    "\\- Input is __z__ the upper limit of the integral.<br>\n",
    "\\- Output is a float which is the area of the error function from 0 to the point __z__."
   ]
  },
  {
   "cell_type": "code",
   "execution_count": 6,
   "metadata": {},
   "outputs": [],
   "source": [
    "def err_func(z):\n",
    "    \n",
    "    f = lambda x: np.e ** -(x ** 2)\n",
    "    root_pi = np.power(np.pi, 0.5)\n",
    "    \n",
    "    integral = trapezium_integration(f, 0, z, 1000)\n",
    "    \n",
    "    return (2 / root_pi) * integral"
   ]
  },
  {
   "cell_type": "markdown",
   "metadata": {},
   "source": [
    "# Integration of $sin^{2}(x)$\n",
    "#### Inputs:"
   ]
  },
  {
   "cell_type": "code",
   "execution_count": 9,
   "metadata": {},
   "outputs": [
    {
     "name": "stdout",
     "output_type": "stream",
     "text": [
      "Please input a value for a ... 0\n",
      "Please input a value for b ... 4\n",
      "Please input a value for the points between the values ... 5\n",
      "\n",
      "The values you have inputed are: a = 0.0, b = 4.0, N = 5\n"
     ]
    }
   ],
   "source": [
    "a = input(\"Please input a value for a ... \")\n",
    "b = input(\"Please input a value for b ... \")\n",
    "N = input(\"Please input a value for the points between the values ... \")\n",
    "\n",
    "a = float(a)\n",
    "b = float(b)\n",
    "N = int(N)\n",
    "\n",
    "print(\"\\nThe values you have inputed are: a = {0}, b = {1}, N = {2}\".format(a,b,N))"
   ]
  },
  {
   "cell_type": "markdown",
   "metadata": {},
   "source": [
    "#### Outputs:"
   ]
  },
  {
   "cell_type": "code",
   "execution_count": 10,
   "metadata": {},
   "outputs": [
    {
     "name": "stdout",
     "output_type": "stream",
     "text": [
      "\n",
      "The test to see if the integration works returned: True\n",
      "\n",
      "Display of numerical integration using trapezium rule:\n"
     ]
    },
    {
     "data": {
      "image/png": "[encoded data removed]",
      "text/plain": [
       "<Figure size 1080x360 with 1 Axes>"
      ]
     },
     "metadata": {
      "needs_background": "light"
     },
     "output_type": "display_data"
    },
    {
     "name": "stdout",
     "output_type": "stream",
     "text": [
      "\n",
      "The area between the points a = 0.0 and b = 4.0 is 1.8078.\n"
     ]
    }
   ],
   "source": [
    "# Function to be integrated ---------------------------------------------------\n",
    "\n",
    "f = lambda x: np.sin(x) ** 2\n",
    "\n",
    "# Test to see if function work ------------------------------------------------\n",
    "\n",
    "integration_test_result = test_integral(trapezium_integration, 200, 12)\n",
    "print(\"\\nThe test to see if the integration works returned: {0}\".format(integration_test_result))\n",
    "\n",
    "# Matplotlib Graph of the integration -----------------------------------------\n",
    "\n",
    "normal_x = np.linspace(a, b, num=1000) # Create a list of x values for a smooth display of the function sin(x)^2\n",
    "\n",
    "h = (b - a) / N\n",
    "\n",
    "# Creat a list of x values to show the trapezoided approximation of the function sin(x)^2\n",
    "# For small values of h the rounding causes b + h to overshoot the graph so b is used instead\n",
    "if (h < 0.24):\n",
    "    trap_x = frange(a, b, h)\n",
    "else:\n",
    "    trap_x = frange(a, b + h, h)\n",
    "\n",
    "print(\"\\nDisplay of numerical integration using trapezium rule:\")\n",
    "\n",
    "plt.figure(figsize=(15,5))\n",
    "\n",
    "plt.plot(normal_x, f(normal_x), label='Sin\\u00b2(x)', lw=3)\n",
    "plt.plot(trap_x, f(trap_x), label='Approximation of Sin\\u00b2(x)')\n",
    "\n",
    "if (h >= 0.05): # If the steps aren't too small then create a stem graph to represent the area\n",
    "    plt.stem(trap_x, f(trap_x),linefmt='orange', markerfmt=' ', basefmt='orange', use_line_collection=True)\n",
    "\n",
    "plt.xlabel('x (radians)', fontsize=16)\n",
    "plt.ylabel('sin\\u00b2(x)', fontsize=16)\n",
    "plt.legend()\n",
    "plt.show()\n",
    "\n",
    "# Result of numerical integration --------------------------------------------\n",
    "\n",
    "integral_result = trapezium_integration(f, a, b, N)\n",
    "print(\"\\nThe area between the points a = {0} and b = {1} is {2:0.4f}.\".format(a, b, integral_result))"
   ]
  },
  {
   "cell_type": "markdown",
   "metadata": {},
   "source": [
    "# Implementation of erf(z)\n",
    "#### Input:"
   ]
  },
  {
   "cell_type": "code",
   "execution_count": 11,
   "metadata": {},
   "outputs": [
    {
     "name": "stdout",
     "output_type": "stream",
     "text": [
      "Please input a value for z ... .5\n",
      "\n",
      "The value you have inputed is: z =  0.5\n"
     ]
    }
   ],
   "source": [
    "z = input(\"Please input a value for z ... \")\n",
    "z = float(z)\n",
    "print(\"\\nThe value you have inputed is: z = \",z)"
   ]
  },
  {
   "cell_type": "markdown",
   "metadata": {},
   "source": [
    "#### Output:"
   ]
  },
  {
   "cell_type": "code",
   "execution_count": 12,
   "metadata": {},
   "outputs": [
    {
     "name": "stdout",
     "output_type": "stream",
     "text": [
      "\n",
      "The test to see if the integration works returned: True\n",
      "\n",
      "The value of the error function at z = 0.5 is 0.5205.\n"
     ]
    }
   ],
   "source": [
    "# Test to see if function work ------------------------------------------------\n",
    "err_func_test_result = test_error_func(err_func, 12)\n",
    "print(\"\\nThe test to see if the integration works returned: {0}\".format(integration_test_result))\n",
    "\n",
    "# Value of err_func -----------------------------------------------------------\n",
    "\n",
    "value = err_func(z)\n",
    "print(\"\\nThe value of the error function at z = {0} is {1:0.4f}.\".format(z, value))"
   ]
  },
  {
   "cell_type": "code",
   "execution_count": null,
   "metadata": {},
   "outputs": [],
   "source": []
  }
 ],
 "metadata": {
  "kernelspec": {
   "display_name": "Python 3",
   "language": "python",
   "name": "python3"
  },
  "language_info": {
   "codemirror_mode": {
    "name": "ipython",
    "version": 3
   },
   "file_extension": ".py",
   "mimetype": "text/x-python",
   "name": "python",
   "nbconvert_exporter": "python",
   "pygments_lexer": "ipython3",
   "version": "3.7.6"
  }
 },
 "nbformat": 4,
 "nbformat_minor": 4
}
